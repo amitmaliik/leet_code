{
 "cells": [
  {
   "cell_type": "code",
   "execution_count": null,
   "id": "f13bfbb7",
   "metadata": {
    "collapsed": true
   },
   "outputs": [],
   "source": [
    "[2,7,11,15], target =9"
   ]
  },
  {
   "cell_type": "code",
   "execution_count": null,
   "id": "2df46b16",
   "metadata": {
    "collapsed": true
   },
   "outputs": [],
   "source": []
  },
  {
   "cell_type": "code",
   "execution_count": 1,
   "id": "b2f02f75",
   "metadata": {},
   "outputs": [],
   "source": [
    "def ff(lis,tar):\n",
    "    for i in range(len(lis)-1):\n",
    "        if lis[i]+lis[i+1]==tar:\n",
    "            print(lis[i],lis[i+1])\n",
    "            return lis[i],lis[i+1]\n",
    "            \n",
    "    "
   ]
  },
  {
   "cell_type": "code",
   "execution_count": 2,
   "id": "4b888135",
   "metadata": {},
   "outputs": [
    {
     "name": "stdout",
     "output_type": "stream",
     "text": [
      "7 11\n"
     ]
    },
    {
     "data": {
      "text/plain": [
       "(7, 11)"
      ]
     },
     "execution_count": 2,
     "metadata": {},
     "output_type": "execute_result"
    }
   ],
   "source": [
    "ff([2,7,11,15],18)"
   ]
  },
  {
   "cell_type": "code",
   "execution_count": 52,
   "id": "89e5357b",
   "metadata": {},
   "outputs": [],
   "source": [
    "def twoSum(nums, target):\n",
    "        for i in range(len(nums)-1):\n",
    "            val=i+1\n",
    "            if nums[i]+nums[val]==target:\n",
    "                print(nums.index(nums[i]),nums.index(nums[val]))\n",
    "                # return [nums[i],nums[i+1]]\n",
    "                print(val,nums.index(nums[val]))\n",
    "                if len(nums)==2:\n",
    "                    \n",
    "                    return [nums.index(nums[i]),1]\n",
    "                else:\n",
    "                    return [nums.index(nums[i]),nums.index(nums[val])]"
   ]
  },
  {
   "cell_type": "code",
   "execution_count": 59,
   "id": "19649ac6",
   "metadata": {},
   "outputs": [],
   "source": [
    "nums,target=[3,2,3,8],6\n",
    "twoSum(nums, target)"
   ]
  },
  {
   "cell_type": "code",
   "execution_count": 50,
   "id": "5a0af583",
   "metadata": {},
   "outputs": [],
   "source": [
    "def twoSum(nums, target):\n",
    "        for i in nums:\n",
    "            val=i+1\n",
    "            if nums[i]+nums[val]==target:\n",
    "                print(nums.index(nums[i]),nums.index(nums[val]))\n",
    "                # return [nums[i],nums[i+1]]\n",
    "                return [nums.index(nums[i]),nums.index(nums[val])]"
   ]
  },
  {
   "cell_type": "code",
   "execution_count": null,
   "id": "11d46c1e",
   "metadata": {},
   "outputs": [],
   "source": []
  },
  {
   "cell_type": "code",
   "execution_count": 1,
   "id": "23c33747",
   "metadata": {},
   "outputs": [],
   "source": [
    "#right solution\n",
    "# class Solution:\n",
    "def twoSum1(nums, target):\n",
    "    for i in range(len(nums)):\n",
    "        for j in range(i + 1, len(nums)):\n",
    "            print(\"nums[j]\",nums[j],i,nums[i],\"nums[i]\")\n",
    "            if nums[j] == target - nums[i]:\n",
    "                return [i, j]"
   ]
  },
  {
   "cell_type": "code",
   "execution_count": 2,
   "id": "920b957a",
   "metadata": {},
   "outputs": [
    {
     "name": "stdout",
     "output_type": "stream",
     "text": [
      "nums[j] 2 0 3 nums[i]\n",
      "nums[j] 3 0 3 nums[i]\n"
     ]
    },
    {
     "data": {
      "text/plain": [
       "[0, 2]"
      ]
     },
     "execution_count": 2,
     "metadata": {},
     "output_type": "execute_result"
    }
   ],
   "source": [
    "nums,target=[3,2,3,8],6\n",
    "twoSum1(nums, target)\n",
    "\n",
    "# target = nums[j]+nums[i]"
   ]
  },
  {
   "cell_type": "code",
   "execution_count": 3,
   "id": "98fa30a2",
   "metadata": {},
   "outputs": [],
   "source": [
    "def lengthOfLongestSubstring(s):\n",
    "        ans = 0\n",
    "        sub = ''\n",
    "        for char in s:\n",
    "            if char not in sub:\n",
    "                sub += char\n",
    "                ans = max(ans, len(sub))\n",
    "            else:\n",
    "                cut = sub.index(char)\n",
    "                print(cut,sub,char)\n",
    "                sub = sub[cut+1:] + char\n",
    "        return ans,sub"
   ]
  },
  {
   "cell_type": "code",
   "execution_count": 4,
   "id": "59d8eda7",
   "metadata": {},
   "outputs": [
    {
     "name": "stdout",
     "output_type": "stream",
     "text": [
      "0 abc a\n",
      "0 bca b\n",
      "0 cab c\n",
      "1 abc b\n",
      "1 cb b\n"
     ]
    },
    {
     "data": {
      "text/plain": [
       "(3, 'b')"
      ]
     },
     "execution_count": 4,
     "metadata": {},
     "output_type": "execute_result"
    }
   ],
   "source": [
    "# lengthOfLongestSubstring(\"skkkew\")\n",
    "lengthOfLongestSubstring(\"abcabcbb\")\n",
    "# \"\"\"\n",
    "# Input: s = \"abcabcbb\"\n",
    "# Output: 3\n",
    "# Explanation: The answer is \"abc\", with the length of 3.\n",
    "# Given a string s, find the length of the longest \n",
    "# substring\n",
    "#  without repeating characters.\n",
    "# \"\"\""
   ]
  },
  {
   "cell_type": "code",
   "execution_count": 90,
   "id": "6a9c6b30",
   "metadata": {},
   "outputs": [],
   "source": [
    "def lengthOfLongestSubstring(s):\n",
    "    ans= 0\n",
    "    sub = ''\n",
    "    for char in s:\n",
    "        if char not in sub:\n",
    "            sub=sub+char\n",
    "            ans = max(ans,len(sub)) #1\n",
    "        else:\n",
    "            cut = sub.index(char) #\n",
    "            print(cut,\"cut\")\n",
    "            sub = sub[cut+1:]+char\n",
    "            print(sub,\"sub\")\n",
    "        return ans"
   ]
  },
  {
   "cell_type": "code",
   "execution_count": 91,
   "id": "ed4c922a",
   "metadata": {},
   "outputs": [
    {
     "data": {
      "text/plain": [
       "1"
      ]
     },
     "execution_count": 91,
     "metadata": {},
     "output_type": "execute_result"
    }
   ],
   "source": [
    "# s=\n",
    "lengthOfLongestSubstring(\"abcabcbb\")\n"
   ]
  },
  {
   "cell_type": "code",
   "execution_count": 93,
   "id": "c158cf75",
   "metadata": {},
   "outputs": [
    {
     "data": {
      "text/plain": [
       "1"
      ]
     },
     "execution_count": 93,
     "metadata": {},
     "output_type": "execute_result"
    }
   ],
   "source": [
    "lengthOfLongestSubstring(\"abcabcbb\")"
   ]
  },
  {
   "cell_type": "code",
   "execution_count": 94,
   "id": "77fcd30d",
   "metadata": {},
   "outputs": [],
   "source": [
    "class Solution:\n",
    "    def lengthOfLongestSubstring(self, s: str) -> int:\n",
    "        def check(start,end):\n",
    "            chars=set()\n",
    "            for i in range(start,end+1):\n",
    "                c=s[i]\n",
    "                if c in chars:\n",
    "                    return False\n",
    "                chars.add(c)\n",
    "            return True\n",
    "    \n",
    "        n=len(s)\n",
    "\n",
    "        res=0\n",
    "        for i in range(n):\n",
    "            for j in range(i,n):\n",
    "                if check(i,j):\n",
    "                    res=max(res,j-i+1)\n",
    "        return res"
   ]
  },
  {
   "cell_type": "code",
   "execution_count": 98,
   "id": "d6429039",
   "metadata": {
    "collapsed": true
   },
   "outputs": [],
   "source": [
    "from collections import Counter\n",
    "def lengthOfLongestSubstring(s):\n",
    "    chars = Counter()\n",
    "    left = right = 0\n",
    "    res = 0\n",
    "    while right < len(s):\n",
    "        r = s[right]\n",
    "        print(r,\"pehla R\")\n",
    "        chars[r] += 1\n",
    "#         print(chars,\"R\")\n",
    "        while chars[r] > 1:\n",
    "            l = s[left]\n",
    "            print(l,\"LL left\")\n",
    "            chars[l] -= 1\n",
    "            left += 1\n",
    "        res = max(res, right - left + 1)\n",
    "#         print(res,\"res\")\n",
    "        right += 1\n",
    "    return res"
   ]
  },
  {
   "cell_type": "markdown",
   "id": "497d915e",
   "metadata": {},
   "source": [
    "Algorithm\n",
    "The naive approach is very straightforward. But it is too slow. So how can we optimize it?\n",
    "\n",
    "In the naive approaches, we repeatedly check a substring to see if it has duplicate character. But it is unnecessary. If a substring s_{ij}s \n",
    "ij\n",
    "​\n",
    "  from index ii to j - 1j−1 is already checked to have no duplicate characters. We only need to check if s[j]s[j] is already in the substring s_{ij}s \n",
    "ij\n",
    "​\n",
    " .\n",
    "\n",
    "To check if a character is already in the substring, we can scan the substring, which leads to an O(n^2)O(n \n",
    "2\n",
    " ) algorithm. But we can do better.\n",
    "\n",
    "By using HashSet as a sliding window, checking if a character in the current can be done in O(1)O(1).\n",
    "\n",
    "A sliding window is an abstract concept commonly used in array/string problems. A window is a range of elements in the array/string which usually defined by the start and end indices, i.e. [i, j)[i,j) (left-closed, right-open). A sliding window is a window \"slides\" its two boundaries to the certain direction. For example, if we slide [i, j)[i,j) to the right by 11 element, then it becomes [i+1, j+1)[i+1,j+1) (left-closed, right-open).\n",
    "\n",
    "Back to our problem. We use HashSet to store the characters in current window [i, j)[i,j) (j = ij=i initially). Then we slide the index jj to the right. If it is not in the HashSet, we slide jj further. Doing so until s[j] is already in the HashSet. At this point, we found the maximum size of substrings without duplicate characters start with index ii. If we do this for all ii, we get our answer."
   ]
  },
  {
   "cell_type": "code",
   "execution_count": 99,
   "id": "79840e7d",
   "metadata": {
    "collapsed": true
   },
   "outputs": [
    {
     "name": "stdout",
     "output_type": "stream",
     "text": [
      "a pehla R\n",
      "b pehla R\n",
      "c pehla R\n",
      "a pehla R\n",
      "a LL left\n",
      "b pehla R\n",
      "b LL left\n",
      "c pehla R\n",
      "c LL left\n",
      "b pehla R\n",
      "a LL left\n",
      "b LL left\n",
      "b pehla R\n",
      "c LL left\n",
      "b LL left\n"
     ]
    },
    {
     "data": {
      "text/plain": [
       "3"
      ]
     },
     "execution_count": 99,
     "metadata": {},
     "output_type": "execute_result"
    }
   ],
   "source": [
    "lengthOfLongestSubstring(\"abcabcbb\")"
   ]
  },
  {
   "cell_type": "code",
   "execution_count": 100,
   "id": "5279f824",
   "metadata": {
    "collapsed": true
   },
   "outputs": [],
   "source": [
    "lis=[1,3,4,5,1]\n",
    "a=set(lis)"
   ]
  },
  {
   "cell_type": "code",
   "execution_count": 101,
   "id": "3b5bff3e",
   "metadata": {
    "collapsed": true
   },
   "outputs": [
    {
     "data": {
      "text/plain": [
       "{1, 3, 4, 5}"
      ]
     },
     "execution_count": 101,
     "metadata": {},
     "output_type": "execute_result"
    }
   ],
   "source": [
    "a"
   ]
  },
  {
   "cell_type": "code",
   "execution_count": 95,
   "id": "44cb598a",
   "metadata": {},
   "outputs": [],
   "source": [
    "def containsDuplicate(nums) -> bool:\n",
    "        # a=\n",
    "        if len(nums)==len(set(nums)):\n",
    "            return True\n",
    "        else:\n",
    "            return False"
   ]
  },
  {
   "cell_type": "code",
   "execution_count": 96,
   "id": "824cfb8b",
   "metadata": {},
   "outputs": [
    {
     "data": {
      "text/plain": [
       "False"
      ]
     },
     "execution_count": 96,
     "metadata": {},
     "output_type": "execute_result"
    }
   ],
   "source": [
    "containsDuplicate([1,2,3,1])"
   ]
  },
  {
   "cell_type": "code",
   "execution_count": 110,
   "id": "a3e7995a",
   "metadata": {},
   "outputs": [],
   "source": [
    "# class Solution:\n",
    "def isValid(s):\n",
    "    stack = []\n",
    "\n",
    "    for a in s:\n",
    "        if a == \"(\" or a == \"[\" or a == \"{\":\n",
    "            stack.append(a)\n",
    "            print(\"stack\",stack)\n",
    "            continue\n",
    "\n",
    "        if stack and a == \")\" and stack[-1] == \"(\":\n",
    "            print(stack,\")\")\n",
    "            stack.pop()\n",
    "            \n",
    "        elif stack and a == \"]\" and stack[-1] == \"[\":\n",
    "            print(stack,\"]\")\n",
    "            stack.pop()\n",
    "            \n",
    "        elif stack and a == \"}\" and stack[-1] == \"{\":\n",
    "            print(stack,\"}\")\n",
    "            stack.pop()\n",
    "            print(stack,\"poped\")\n",
    "            \n",
    "        else:\n",
    "            return False\n",
    "\n",
    "    return not stack"
   ]
  },
  {
   "cell_type": "code",
   "execution_count": 111,
   "id": "cb0fe174",
   "metadata": {},
   "outputs": [
    {
     "name": "stdout",
     "output_type": "stream",
     "text": [
      "stack ['(']\n",
      "['('] )\n",
      "stack ['[']\n",
      "['['] ]\n",
      "stack ['{']\n",
      "['{'] }\n",
      "[] poped\n"
     ]
    },
    {
     "data": {
      "text/plain": [
       "True"
      ]
     },
     "execution_count": 111,
     "metadata": {},
     "output_type": "execute_result"
    }
   ],
   "source": [
    "isValid(\"()[]{}\")"
   ]
  },
  {
   "cell_type": "code",
   "execution_count": 116,
   "id": "1c23672e",
   "metadata": {},
   "outputs": [
    {
     "name": "stdout",
     "output_type": "stream",
     "text": [
      "zsh:1: command not found: a\r\n"
     ]
    }
   ],
   "source": [
    "a=[]\n"
   ]
  },
  {
   "cell_type": "code",
   "execution_count": 117,
   "id": "1e6adb55",
   "metadata": {},
   "outputs": [
    {
     "data": {
      "text/plain": [
       "6"
      ]
     },
     "execution_count": 117,
     "metadata": {},
     "output_type": "execute_result"
    }
   ],
   "source": [
    "a=[1,3,4,56,6]\n",
    "a.pop()"
   ]
  },
  {
   "cell_type": "code",
   "execution_count": 118,
   "id": "1fb6e89a",
   "metadata": {},
   "outputs": [
    {
     "data": {
      "text/plain": [
       "[1, 3, 4, 56]"
      ]
     },
     "execution_count": 118,
     "metadata": {},
     "output_type": "execute_result"
    }
   ],
   "source": [
    "a"
   ]
  },
  {
   "cell_type": "code",
   "execution_count": null,
   "id": "33490106",
   "metadata": {
    "collapsed": true
   },
   "outputs": [],
   "source": [
    "Input: k = 3, n = 7\n",
    "Output: [[1,2,4]]\n",
    "Explanation:\n",
    "1 + 2 + 4 = 7\n"
   ]
  },
  {
   "cell_type": "code",
   "execution_count": 119,
   "id": "c934335a",
   "metadata": {},
   "outputs": [],
   "source": [
    "lis=[]\n",
    "def ab(num,sum_data):\n",
    "    sum_ele = 0\n",
    "    for i in range(num):\n",
    "#         print(i)\n",
    "        sum_ele = sum_ele+i\n",
    "        lis.append(sum_ele)\n",
    "        print(sum_ele,\"sum_ele\")\n",
    "        if sum(lis) == sum_data:\n",
    "            break\n",
    "        else:\n",
    "            continue\n",
    "    return lis"
   ]
  },
  {
   "cell_type": "code",
   "execution_count": 120,
   "id": "553d16f5",
   "metadata": {},
   "outputs": [
    {
     "name": "stdout",
     "output_type": "stream",
     "text": [
      "0 sum_ele\n",
      "1 sum_ele\n",
      "3 sum_ele\n"
     ]
    },
    {
     "data": {
      "text/plain": [
       "[0, 1, 3]"
      ]
     },
     "execution_count": 120,
     "metadata": {},
     "output_type": "execute_result"
    }
   ],
   "source": [
    "ab(3,7)"
   ]
  },
  {
   "cell_type": "code",
   "execution_count": 149,
   "id": "a87b05f4",
   "metadata": {},
   "outputs": [
    {
     "name": "stdout",
     "output_type": "stream",
     "text": [
      "0\n",
      "1\n",
      "2\n"
     ]
    }
   ],
   "source": [
    "sum_ele=0\n",
    "for i in range(3):\n",
    "    print(i)\n",
    "    sum_ele = sum_ele+i"
   ]
  },
  {
   "cell_type": "code",
   "execution_count": 141,
   "id": "3f8e6f52",
   "metadata": {},
   "outputs": [
    {
     "data": {
      "text/plain": [
       "6"
      ]
     },
     "execution_count": 141,
     "metadata": {},
     "output_type": "execute_result"
    }
   ],
   "source": [
    "sum_ele\n"
   ]
  },
  {
   "cell_type": "code",
   "execution_count": 157,
   "id": "70d391bc",
   "metadata": {},
   "outputs": [
    {
     "data": {
      "text/plain": [
       "[(1, 2, 4)]"
      ]
     },
     "execution_count": 157,
     "metadata": {},
     "output_type": "execute_result"
    }
   ],
   "source": [
    "k=3\n",
    "n=7\n",
    "from itertools import combinations\n",
    "[c for c in combinations(range(1, 10), k) if sum(c) == n]"
   ]
  },
  {
   "cell_type": "code",
   "execution_count": 124,
   "id": "41f564ec",
   "metadata": {},
   "outputs": [
    {
     "name": "stdout",
     "output_type": "stream",
     "text": [
      "(1, 2, 3)\n",
      "(1, 2, 4)\n",
      "(1, 2, 4) m\n",
      "(1, 2, 5)\n",
      "(1, 2, 6)\n",
      "(1, 2, 7)\n",
      "(1, 2, 8)\n",
      "(1, 2, 9)\n",
      "(1, 3, 4)\n",
      "(1, 3, 5)\n",
      "(1, 3, 6)\n",
      "(1, 3, 7)\n",
      "(1, 3, 8)\n",
      "(1, 3, 9)\n",
      "(1, 4, 5)\n",
      "(1, 4, 6)\n",
      "(1, 4, 7)\n",
      "(1, 4, 8)\n",
      "(1, 4, 9)\n",
      "(1, 5, 6)\n",
      "(1, 5, 7)\n",
      "(1, 5, 8)\n",
      "(1, 5, 9)\n",
      "(1, 6, 7)\n",
      "(1, 6, 8)\n",
      "(1, 6, 9)\n",
      "(1, 7, 8)\n",
      "(1, 7, 9)\n",
      "(1, 8, 9)\n",
      "(2, 3, 4)\n",
      "(2, 3, 5)\n",
      "(2, 3, 6)\n",
      "(2, 3, 7)\n",
      "(2, 3, 8)\n",
      "(2, 3, 9)\n",
      "(2, 4, 5)\n",
      "(2, 4, 6)\n",
      "(2, 4, 7)\n",
      "(2, 4, 8)\n",
      "(2, 4, 9)\n",
      "(2, 5, 6)\n",
      "(2, 5, 7)\n",
      "(2, 5, 8)\n",
      "(2, 5, 9)\n",
      "(2, 6, 7)\n",
      "(2, 6, 8)\n",
      "(2, 6, 9)\n",
      "(2, 7, 8)\n",
      "(2, 7, 9)\n",
      "(2, 8, 9)\n",
      "(3, 4, 5)\n",
      "(3, 4, 6)\n",
      "(3, 4, 7)\n",
      "(3, 4, 8)\n",
      "(3, 4, 9)\n",
      "(3, 5, 6)\n",
      "(3, 5, 7)\n",
      "(3, 5, 8)\n",
      "(3, 5, 9)\n",
      "(3, 6, 7)\n",
      "(3, 6, 8)\n",
      "(3, 6, 9)\n",
      "(3, 7, 8)\n",
      "(3, 7, 9)\n",
      "(3, 8, 9)\n",
      "(4, 5, 6)\n",
      "(4, 5, 7)\n",
      "(4, 5, 8)\n",
      "(4, 5, 9)\n",
      "(4, 6, 7)\n",
      "(4, 6, 8)\n",
      "(4, 6, 9)\n",
      "(4, 7, 8)\n",
      "(4, 7, 9)\n",
      "(4, 8, 9)\n",
      "(5, 6, 7)\n",
      "(5, 6, 8)\n",
      "(5, 6, 9)\n",
      "(5, 7, 8)\n",
      "(5, 7, 9)\n",
      "(5, 8, 9)\n",
      "(6, 7, 8)\n",
      "(6, 7, 9)\n",
      "(6, 8, 9)\n",
      "(7, 8, 9)\n"
     ]
    }
   ],
   "source": [
    "from itertools import combinations\n",
    "n=7\n",
    "for c in combinations(range(1, 10), 3) :\n",
    "    print(c)\n",
    "    if sum(c) == n:\n",
    "        print(c,\"m\")"
   ]
  },
  {
   "cell_type": "code",
   "execution_count": 163,
   "id": "f891c9e0",
   "metadata": {},
   "outputs": [],
   "source": [
    "def combinationSum3( k, n):\n",
    "    combs = [[]]\n",
    "    for _ in range(k):\n",
    "        combs = [[first] + comb for comb in combs\n",
    "                 for first in range(1, comb[0] if comb else 10)]\n",
    "    return [c for c in combs if sum(c) == n]"
   ]
  },
  {
   "cell_type": "code",
   "execution_count": 165,
   "id": "0979cfab",
   "metadata": {},
   "outputs": [
    {
     "data": {
      "text/plain": [
       "[1, 2, 4]"
      ]
     },
     "execution_count": 165,
     "metadata": {},
     "output_type": "execute_result"
    }
   ],
   "source": [
    "combinationSum3(3, 7)[0]"
   ]
  },
  {
   "cell_type": "code",
   "execution_count": null,
   "id": "92441441",
   "metadata": {},
   "outputs": [],
   "source": []
  },
  {
   "cell_type": "code",
   "execution_count": null,
   "id": "c2563dc4",
   "metadata": {},
   "outputs": [],
   "source": [
    "for first in range(1, comb[0] ):\n",
    "    if comb else 10)"
   ]
  },
  {
   "cell_type": "code",
   "execution_count": null,
   "id": "2b483518",
   "metadata": {},
   "outputs": [],
   "source": []
  },
  {
   "cell_type": "code",
   "execution_count": 125,
   "id": "006cc375",
   "metadata": {},
   "outputs": [],
   "source": [
    "def mySqrt(x):\n",
    "    l, r = 0, x\n",
    "    while l <= r:\n",
    "        mid = l + (r-l)//2\n",
    "        print(mid,\"mid\")\n",
    "        if mid * mid <= x < (mid+1)*(mid+1):\n",
    "            return mid\n",
    "        elif x < mid * mid:\n",
    "            r = mid - 1\n",
    "            print(r,\"r\")\n",
    "        else:\n",
    "            l = mid + 1\n",
    "            print(l,\"l\")"
   ]
  },
  {
   "cell_type": "code",
   "execution_count": 126,
   "id": "8adcd4eb",
   "metadata": {},
   "outputs": [
    {
     "name": "stdout",
     "output_type": "stream",
     "text": [
      "4 mid\n",
      "3 r\n",
      "1 mid\n",
      "2 l\n",
      "2 mid\n",
      "3 l\n",
      "3 mid\n"
     ]
    },
    {
     "data": {
      "text/plain": [
       "3"
      ]
     },
     "execution_count": 126,
     "metadata": {},
     "output_type": "execute_result"
    }
   ],
   "source": [
    "mySqrt(9)"
   ]
  },
  {
   "cell_type": "code",
   "execution_count": 176,
   "id": "ef16fc82",
   "metadata": {},
   "outputs": [
    {
     "data": {
      "text/plain": [
       "1"
      ]
     },
     "execution_count": 176,
     "metadata": {},
     "output_type": "execute_result"
    }
   ],
   "source": [
    "2//2"
   ]
  },
  {
   "cell_type": "code",
   "execution_count": 181,
   "id": "9fc0bb96",
   "metadata": {},
   "outputs": [],
   "source": [
    "#could be issue on leet code galat\n",
    "def mySqrt(self, x):\n",
    "    lo, hi = 0, x\n",
    "    while lo <= hi:\n",
    "        mid = (lo + hi) // 2\n",
    "\n",
    "        if mid * mid > x:\n",
    "            hi = mid - 1\n",
    "        elif mid * mid < x:\n",
    "            lo = mid + 1\n",
    "        else:\n",
    "            return mid,\"mid\"\n",
    "    # When there is no perfect square, hi is the the value on the left\n",
    "    # of where it would have been (rounding down). If we were rounding up, \n",
    "    # we would return lo\n",
    "    return hi,\"hi\""
   ]
  },
  {
   "cell_type": "code",
   "execution_count": 183,
   "id": "95ee349d",
   "metadata": {},
   "outputs": [
    {
     "data": {
      "text/plain": [
       "(2, 'mid')"
      ]
     },
     "execution_count": 183,
     "metadata": {},
     "output_type": "execute_result"
    }
   ],
   "source": [
    "mySqrt(\"self\", 4)"
   ]
  },
  {
   "cell_type": "code",
   "execution_count": null,
   "id": "6f57d90c",
   "metadata": {},
   "outputs": [],
   "source": []
  },
  {
   "cell_type": "code",
   "execution_count": 185,
   "id": "650f7960",
   "metadata": {},
   "outputs": [],
   "source": [
    "# Input: prices = [7,1,5,3,6,4]\n",
    "# Output: 5\n",
    "\n",
    "# We need to find out the maximum difference (which will be the maximum profit) between two numbers in the given array. \n",
    "# Also, the second number(selling price) must be larger than the first one(buying price).\n",
    "\n",
    "# In formal terms, we need to find \\max(\\text{prices[j]} - \\text{prices[i]})max(prices[j]−prices[i]), \n",
    "# for every ii and jj such that j > ij>i.\n",
    "\n"
   ]
  },
  {
   "cell_type": "code",
   "execution_count": 5,
   "id": "90ba413f",
   "metadata": {},
   "outputs": [],
   "source": [
    "def maxProfit( prices):\n",
    "    for i in range(len(prices)-2):\n",
    "        for j in range(len(prices)+1):\n",
    "            if prices[j]>prices[i]:\n",
    "                print(prices[j])\n",
    "        \n",
    "        "
   ]
  },
  {
   "cell_type": "code",
   "execution_count": 6,
   "id": "08fefdb6",
   "metadata": {},
   "outputs": [
    {
     "ename": "IndexError",
     "evalue": "list index out of range",
     "output_type": "error",
     "traceback": [
      "\u001b[0;31m---------------------------------------------------------------------------\u001b[0m",
      "\u001b[0;31mIndexError\u001b[0m                                Traceback (most recent call last)",
      "\u001b[0;32m/var/folders/v_/k0sbcyf56mq85nj57wwwvbxc0000gn/T/ipykernel_49744/2284660856.py\u001b[0m in \u001b[0;36m<module>\u001b[0;34m\u001b[0m\n\u001b[0;32m----> 1\u001b[0;31m \u001b[0mmaxProfit\u001b[0m\u001b[0;34m(\u001b[0m\u001b[0;34m[\u001b[0m\u001b[0;36m7\u001b[0m\u001b[0;34m,\u001b[0m\u001b[0;36m1\u001b[0m\u001b[0;34m,\u001b[0m\u001b[0;36m5\u001b[0m\u001b[0;34m,\u001b[0m\u001b[0;36m3\u001b[0m\u001b[0;34m,\u001b[0m\u001b[0;36m6\u001b[0m\u001b[0;34m,\u001b[0m\u001b[0;36m4\u001b[0m\u001b[0;34m]\u001b[0m\u001b[0;34m)\u001b[0m\u001b[0;34m\u001b[0m\u001b[0;34m\u001b[0m\u001b[0m\n\u001b[0m",
      "\u001b[0;32m/var/folders/v_/k0sbcyf56mq85nj57wwwvbxc0000gn/T/ipykernel_49744/2966133657.py\u001b[0m in \u001b[0;36mmaxProfit\u001b[0;34m(prices)\u001b[0m\n\u001b[1;32m      2\u001b[0m     \u001b[0;32mfor\u001b[0m \u001b[0mi\u001b[0m \u001b[0;32min\u001b[0m \u001b[0mrange\u001b[0m\u001b[0;34m(\u001b[0m\u001b[0mlen\u001b[0m\u001b[0;34m(\u001b[0m\u001b[0mprices\u001b[0m\u001b[0;34m)\u001b[0m\u001b[0;34m-\u001b[0m\u001b[0;36m2\u001b[0m\u001b[0;34m)\u001b[0m\u001b[0;34m:\u001b[0m\u001b[0;34m\u001b[0m\u001b[0;34m\u001b[0m\u001b[0m\n\u001b[1;32m      3\u001b[0m         \u001b[0;32mfor\u001b[0m \u001b[0mj\u001b[0m \u001b[0;32min\u001b[0m \u001b[0mrange\u001b[0m\u001b[0;34m(\u001b[0m\u001b[0mlen\u001b[0m\u001b[0;34m(\u001b[0m\u001b[0mprices\u001b[0m\u001b[0;34m)\u001b[0m\u001b[0;34m+\u001b[0m\u001b[0;36m1\u001b[0m\u001b[0;34m)\u001b[0m\u001b[0;34m:\u001b[0m\u001b[0;34m\u001b[0m\u001b[0;34m\u001b[0m\u001b[0m\n\u001b[0;32m----> 4\u001b[0;31m             \u001b[0;32mif\u001b[0m \u001b[0mprices\u001b[0m\u001b[0;34m[\u001b[0m\u001b[0mj\u001b[0m\u001b[0;34m]\u001b[0m\u001b[0;34m>\u001b[0m\u001b[0mprices\u001b[0m\u001b[0;34m[\u001b[0m\u001b[0mi\u001b[0m\u001b[0;34m]\u001b[0m\u001b[0;34m:\u001b[0m\u001b[0;34m\u001b[0m\u001b[0;34m\u001b[0m\u001b[0m\n\u001b[0m\u001b[1;32m      5\u001b[0m                 \u001b[0mprint\u001b[0m\u001b[0;34m(\u001b[0m\u001b[0mprices\u001b[0m\u001b[0;34m[\u001b[0m\u001b[0mj\u001b[0m\u001b[0;34m]\u001b[0m\u001b[0;34m)\u001b[0m\u001b[0;34m\u001b[0m\u001b[0;34m\u001b[0m\u001b[0m\n\u001b[1;32m      6\u001b[0m \u001b[0;34m\u001b[0m\u001b[0m\n",
      "\u001b[0;31mIndexError\u001b[0m: list index out of range"
     ]
    }
   ],
   "source": [
    "maxProfit([7,1,5,3,6,4])"
   ]
  },
  {
   "cell_type": "code",
   "execution_count": 193,
   "id": "74bd5626",
   "metadata": {},
   "outputs": [],
   "source": [
    "min_price = float('inf')"
   ]
  },
  {
   "cell_type": "code",
   "execution_count": 194,
   "id": "60e39a2f",
   "metadata": {},
   "outputs": [
    {
     "data": {
      "text/plain": [
       "inf"
      ]
     },
     "execution_count": 194,
     "metadata": {},
     "output_type": "execute_result"
    }
   ],
   "source": [
    "# #The points of interest are the peaks and valleys in the given graph. \n",
    "# We need to find the largest price following each valley, which difference could be the max profit. \n",
    "# We can maintain two variables - minprice and maxprofit corresponding to the smallest valley and\n",
    "# maximum profit (maximum difference between selling price and minprice) obtained so far respectively."
   ]
  },
  {
   "cell_type": "code",
   "execution_count": 129,
   "id": "903f7f33",
   "metadata": {},
   "outputs": [],
   "source": [
    "def maxProfit(prices):\n",
    "    min_price = float('inf')\n",
    "    max_profit = 0\n",
    "    for i in range(len(prices)):\n",
    "        if prices[i] < min_price:\n",
    "            min_price = prices[i]\n",
    "        elif prices[i] - min_price > max_profit:\n",
    "            max_profit = prices[i] - min_price\n",
    "    return max_profit"
   ]
  },
  {
   "cell_type": "code",
   "execution_count": 127,
   "id": "58aa623a",
   "metadata": {},
   "outputs": [],
   "source": [
    "# min_price = float('inf')"
   ]
  },
  {
   "cell_type": "code",
   "execution_count": 128,
   "id": "50f977ea",
   "metadata": {},
   "outputs": [
    {
     "data": {
      "text/plain": [
       "inf"
      ]
     },
     "execution_count": 128,
     "metadata": {},
     "output_type": "execute_result"
    }
   ],
   "source": [
    "min_price"
   ]
  },
  {
   "cell_type": "code",
   "execution_count": 130,
   "id": "28257717",
   "metadata": {},
   "outputs": [
    {
     "data": {
      "text/plain": [
       "5"
      ]
     },
     "execution_count": 130,
     "metadata": {},
     "output_type": "execute_result"
    }
   ],
   "source": [
    "maxProfit([7,1,5,3,6,4])"
   ]
  },
  {
   "cell_type": "code",
   "execution_count": null,
   "id": "3f89cb05",
   "metadata": {},
   "outputs": [],
   "source": [
    "#sliding window technique vedios "
   ]
  },
  {
   "cell_type": "code",
   "execution_count": null,
   "id": "c805cfdd",
   "metadata": {},
   "outputs": [],
   "source": [
    "def maxProfit(self, prices: List[int]) -> int:\n",
    "\tif not prices:\n",
    "\t\treturn 0\n",
    "\n",
    "\tmaxProfit = 0\n",
    "\tminPurchase = prices[0]\n",
    "\tfor i in range(1, len(prices)):\t\t\n",
    "\t\tmaxProfit = max(maxProfit, prices[i] - minPurchase)\n",
    "\t\tminPurchase = min(minPurchase, prices[i])\n",
    "\treturn maxProfit"
   ]
  },
  {
   "cell_type": "code",
   "execution_count": null,
   "id": "a95d6623",
   "metadata": {},
   "outputs": [],
   "source": []
  },
  {
   "cell_type": "code",
   "execution_count": 132,
   "id": "d0672ab5",
   "metadata": {},
   "outputs": [],
   "source": [
    "s = \"   fly me   to   the moon  \"\n",
    "\n",
    "# a=s.split(' ')[-1].strip(\" \")"
   ]
  },
  {
   "cell_type": "code",
   "execution_count": 133,
   "id": "98343358",
   "metadata": {},
   "outputs": [],
   "source": [
    "a=s.strip().split(' ')[-1]"
   ]
  },
  {
   "cell_type": "code",
   "execution_count": 134,
   "id": "eeb34550",
   "metadata": {},
   "outputs": [
    {
     "data": {
      "text/plain": [
       "'fly me   to   the moon'"
      ]
     },
     "execution_count": 134,
     "metadata": {},
     "output_type": "execute_result"
    }
   ],
   "source": [
    "s.strip()"
   ]
  },
  {
   "cell_type": "code",
   "execution_count": 210,
   "id": "3bc7b36e",
   "metadata": {},
   "outputs": [
    {
     "data": {
      "text/plain": [
       "'moon'"
      ]
     },
     "execution_count": 210,
     "metadata": {},
     "output_type": "execute_result"
    }
   ],
   "source": [
    "a"
   ]
  },
  {
   "cell_type": "code",
   "execution_count": null,
   "id": "e0a59f5f",
   "metadata": {},
   "outputs": [],
   "source": []
  },
  {
   "cell_type": "code",
   "execution_count": null,
   "id": "f04f9783",
   "metadata": {},
   "outputs": [],
   "source": []
  },
  {
   "cell_type": "code",
   "execution_count": null,
   "id": "67e18e30",
   "metadata": {},
   "outputs": [],
   "source": []
  },
  {
   "cell_type": "code",
   "execution_count": null,
   "id": "a83ec686",
   "metadata": {},
   "outputs": [],
   "source": []
  },
  {
   "cell_type": "code",
   "execution_count": null,
   "id": "910c7d00",
   "metadata": {},
   "outputs": [],
   "source": []
  },
  {
   "cell_type": "code",
   "execution_count": null,
   "id": "46cd38cd",
   "metadata": {},
   "outputs": [],
   "source": []
  },
  {
   "cell_type": "code",
   "execution_count": 135,
   "id": "9d11fc2e",
   "metadata": {},
   "outputs": [
    {
     "name": "stdout",
     "output_type": "stream",
     "text": [
      "Reversed Number: 4321\n"
     ]
    }
   ],
   "source": [
    "num = 1234\n",
    "reversed_num = 0\n",
    "\n",
    "while num != 0:\n",
    "    digit = num % 10\n",
    "    reversed_num = reversed_num * 10 + digit\n",
    "    num //= 10\n",
    "\n",
    "print(\"Reversed Number: \" + str(reversed_num))"
   ]
  },
  {
   "cell_type": "code",
   "execution_count": null,
   "id": "b5c12413",
   "metadata": {},
   "outputs": [],
   "source": []
  },
  {
   "cell_type": "code",
   "execution_count": null,
   "id": "2dc25147",
   "metadata": {},
   "outputs": [],
   "source": [
    "class Solution:\n",
    "    def isPalindrome(self, x: int) -> bool:\n",
    "        return False if x < 0 else x == int(str(x)[::-1])"
   ]
  },
  {
   "cell_type": "code",
   "execution_count": null,
   "id": "5083f1ce",
   "metadata": {},
   "outputs": [],
   "source": []
  },
  {
   "cell_type": "code",
   "execution_count": 26,
   "id": "16b6820a",
   "metadata": {},
   "outputs": [],
   "source": [
    "x=12221"
   ]
  },
  {
   "cell_type": "code",
   "execution_count": 27,
   "id": "fd507986",
   "metadata": {},
   "outputs": [
    {
     "data": {
      "text/plain": [
       "True"
      ]
     },
     "execution_count": 27,
     "metadata": {},
     "output_type": "execute_result"
    }
   ],
   "source": [
    "x == int(str(x)[::-1])"
   ]
  },
  {
   "cell_type": "code",
   "execution_count": 30,
   "id": "3113fe5d",
   "metadata": {},
   "outputs": [
    {
     "data": {
      "text/plain": [
       "12221"
      ]
     },
     "execution_count": 30,
     "metadata": {},
     "output_type": "execute_result"
    }
   ],
   "source": [
    "int(str(x)[::-1])"
   ]
  },
  {
   "cell_type": "code",
   "execution_count": 139,
   "id": "41fa1a2e",
   "metadata": {},
   "outputs": [],
   "source": [
    "strs = [\"flower\",\"flow\",\"flight\"]\n",
    "l = list(zip(*strs))\n",
    "# l = [('f', 'f', 'f'), ('l', 'l', 'l'), ('o', 'o', 'i'), ('w', 'w', 'g')]"
   ]
  },
  {
   "cell_type": "code",
   "execution_count": 140,
   "id": "06f49074",
   "metadata": {},
   "outputs": [
    {
     "data": {
      "text/plain": [
       "[('f', 'f', 'f'), ('l', 'l', 'l'), ('o', 'o', 'i'), ('w', 'w', 'g')]"
      ]
     },
     "execution_count": 140,
     "metadata": {},
     "output_type": "execute_result"
    }
   ],
   "source": [
    "l"
   ]
  },
  {
   "cell_type": "code",
   "execution_count": 153,
   "id": "cf77cd95",
   "metadata": {},
   "outputs": [
    {
     "name": "stdout",
     "output_type": "stream",
     "text": [
      "('f', 'f', 'f')\n",
      "('l', 'l', 'l')\n",
      "('o', 'o', 'i')\n",
      "('w', 'w', 'g')\n",
      "('e', 'i', 'h')\n",
      "('r', 'n', 't')\n"
     ]
    }
   ],
   "source": [
    "for i in zip(*strs):\n",
    "    print(i)"
   ]
  },
  {
   "cell_type": "code",
   "execution_count": 142,
   "id": "c3cf14e4",
   "metadata": {},
   "outputs": [],
   "source": [
    "# class Solution:\n",
    "def longestCommonPrefix( strs):\n",
    "    if strs == None or len(strs) == 0: \n",
    "        return \"\"\n",
    "    print(strs[0])\n",
    "    for i in range(len(strs[0])): \n",
    "        c = strs[0][i]\n",
    "        print(c)\n",
    "        for j in range(1,len(strs)):\n",
    "            print(\"bb\",strs[j])\n",
    "            if i == len(strs[j]) or strs[j][i] != c:\n",
    "                print(strs[j][i],\"strs[j][i]\")\n",
    "                return strs[0][:i]\n",
    "                print(c)\n",
    "    return strs[0] if strs else \"\""
   ]
  },
  {
   "cell_type": "code",
   "execution_count": 143,
   "id": "fa237d06",
   "metadata": {},
   "outputs": [
    {
     "name": "stdout",
     "output_type": "stream",
     "text": [
      "flower\n",
      "f\n",
      "bb flowing\n",
      "bb flight\n",
      "l\n",
      "bb flowing\n",
      "bb flight\n",
      "o\n",
      "bb flowing\n",
      "bb flight\n",
      "i strs[j][i]\n"
     ]
    },
    {
     "data": {
      "text/plain": [
       "'fl'"
      ]
     },
     "execution_count": 143,
     "metadata": {},
     "output_type": "execute_result"
    }
   ],
   "source": [
    "strs = [\"flower\",\"flowing\",\"flight\"]\n",
    "longestCommonPrefix(strs)"
   ]
  },
  {
   "cell_type": "code",
   "execution_count": 156,
   "id": "94f33a75",
   "metadata": {},
   "outputs": [],
   "source": [
    "def longestCommonPrefix(strs):\n",
    "    a = zip(*strs)\n",
    "    pre = []\n",
    "    for tup in a:\n",
    "        print(len(tup),tup)\n",
    "        if len(set(tup))!=1:\n",
    "            break\n",
    "        pre.append(tup[0])\n",
    "    return \"\".join(pre)"
   ]
  },
  {
   "cell_type": "code",
   "execution_count": 157,
   "id": "ad1824aa",
   "metadata": {},
   "outputs": [
    {
     "name": "stdout",
     "output_type": "stream",
     "text": [
      "3 ('f', 'f', 'f')\n",
      "3 ('l', 'l', 'l')\n",
      "3 ('o', 'o', 'i')\n"
     ]
    },
    {
     "data": {
      "text/plain": [
       "'fl'"
      ]
     },
     "execution_count": 157,
     "metadata": {},
     "output_type": "execute_result"
    }
   ],
   "source": [
    "# strs = [\"flower\",\"flowing\",\"floght\"]\n",
    "# strs = [\"dog\",\"racecar\",\"car\"]\n",
    "strs =[\"flower\",\"flowing\",\"flight\"]\n",
    "longestCommonPrefix(strs)"
   ]
  },
  {
   "cell_type": "code",
   "execution_count": 33,
   "id": "3a1d38c5",
   "metadata": {},
   "outputs": [],
   "source": [
    " a = zip(*strs)"
   ]
  },
  {
   "cell_type": "code",
   "execution_count": 37,
   "id": "4e4d53da",
   "metadata": {},
   "outputs": [
    {
     "data": {
      "text/plain": [
       "('w', 'w', 'g')"
      ]
     },
     "execution_count": 37,
     "metadata": {},
     "output_type": "execute_result"
    }
   ],
   "source": [
    "next(a)"
   ]
  },
  {
   "cell_type": "code",
   "execution_count": null,
   "id": "42540145",
   "metadata": {},
   "outputs": [],
   "source": []
  },
  {
   "cell_type": "code",
   "execution_count": null,
   "id": "059f83aa",
   "metadata": {},
   "outputs": [],
   "source": [
    "# iteratively\n",
    "def mergeTwoLists1(self, l1, l2):\n",
    "    dummy = cur = ListNode(0)\n",
    "    while l1 and l2:\n",
    "        if l1.val < l2.val:\n",
    "            cur.next = l1\n",
    "            l1 = l1.next\n",
    "        else:\n",
    "            cur.next = l2\n",
    "            l2 = l2.next\n",
    "        cur = cur.next\n",
    "    cur.next = l1 or l2\n",
    "    return dummy.next\n",
    "    \n",
    "# recursively    \n",
    "# def mergeTwoLists2(self, l1, l2):\n",
    "#     if not l1 or not l2:\n",
    "#         return l1 or l2\n",
    "#     if l1.val < l2.val:\n",
    "#         l1.next = self.mergeTwoLists(l1.next, l2)\n",
    "#         return l1\n",
    "#     else:\n",
    "#         l2.next = self.mergeTwoLists(l1, l2.next)\n",
    "#         return l2\n",
    "        \n",
    "# in-place, iteratively        \n",
    "def mergeTwoLists(self, l1, l2):\n",
    "    if None in (l1, l2):\n",
    "        return l1 or l2\n",
    "    dummy = cur = ListNode(0)\n",
    "    dummy.next = l1\n",
    "    while l1 and l2:\n",
    "        if l1.val < l2.val:\n",
    "            l1 = l1.next\n",
    "        else:\n",
    "            nxt = cur.next\n",
    "            cur.next = l2\n",
    "            tmp = l2.next\n",
    "            l2.next = nxt\n",
    "            l2 = tmp\n",
    "        cur = cur.next\n",
    "    cur.next = l1 or l2\n",
    "    return dummy.next"
   ]
  },
  {
   "cell_type": "code",
   "execution_count": 39,
   "id": "919063cd",
   "metadata": {},
   "outputs": [],
   "source": [
    "def mergeTwoLists2( l1, l2):\n",
    "    if not l1 or not l2:\n",
    "        return l1 or l2\n",
    "    if l1.val < l2.val:\n",
    "        l1.next = mergeTwoLists(l1.next, l2)\n",
    "        return l1\n",
    "    else:\n",
    "        l2.next = mergeTwoLists(l1, l2.next)\n",
    "        return l2\n",
    "    \n",
    "\n",
    "def mergeTwoLists(self, l1, l2):\n",
    "    if None in (l1, l2):\n",
    "        return l1 or l2\n",
    "    dummy = cur = ListNode(0)\n",
    "    dummy.next = l1\n",
    "    while l1 and l2:\n",
    "        if l1.val < l2.val:\n",
    "            l1 = l1.next\n",
    "        else:\n",
    "            nxt = cur.next\n",
    "            cur.next = l2\n",
    "            tmp = l2.next\n",
    "            l2.next = nxt\n",
    "            l2 = tmp\n",
    "        cur = cur.next\n",
    "    cur.next = l1 or l2\n",
    "    return dummy.next"
   ]
  },
  {
   "cell_type": "code",
   "execution_count": 40,
   "id": "9b187e27",
   "metadata": {},
   "outputs": [],
   "source": [
    "tu=([1,2])"
   ]
  },
  {
   "cell_type": "code",
   "execution_count": 44,
   "id": "0e6acfce",
   "metadata": {},
   "outputs": [],
   "source": [
    "class Solution:\n",
    "    def mergeTwoLists(self, a, b):\n",
    "        if a and b:\n",
    "            if a.val > b.val:\n",
    "                a, b = b, a\n",
    "            a.next = self.mergeTwoLists(a.next, b)\n",
    "        return a or b"
   ]
  },
  {
   "cell_type": "code",
   "execution_count": 45,
   "id": "add12234",
   "metadata": {},
   "outputs": [],
   "source": [
    "def mergeTwoLists(self, a, b):\n",
    "    if not a or b and a.val > b.val:\n",
    "        a, b = b, a\n",
    "    if a:\n",
    "        a.next = self.mergeTwoLists(a.next, b)\n",
    "    return a"
   ]
  },
  {
   "cell_type": "code",
   "execution_count": 163,
   "id": "dfb275c1",
   "metadata": {},
   "outputs": [],
   "source": [
    "def mergeTwoLists(a, b):\n",
    "    if not a or b and a.val > b.val:\n",
    "        a, b = b, a\n",
    "    if a:\n",
    "        a.next = mergeTwoLists(a.next, b)\n",
    "    return a"
   ]
  },
  {
   "cell_type": "code",
   "execution_count": 164,
   "id": "6abe6b54",
   "metadata": {},
   "outputs": [
    {
     "ename": "AttributeError",
     "evalue": "'list' object has no attribute 'val'",
     "output_type": "error",
     "traceback": [
      "\u001b[0;31m---------------------------------------------------------------------------\u001b[0m",
      "\u001b[0;31mAttributeError\u001b[0m                            Traceback (most recent call last)",
      "\u001b[0;32m/var/folders/v_/k0sbcyf56mq85nj57wwwvbxc0000gn/T/ipykernel_3541/583463268.py\u001b[0m in \u001b[0;36m<module>\u001b[0;34m\u001b[0m\n\u001b[1;32m      1\u001b[0m \u001b[0ma\u001b[0m\u001b[0;34m,\u001b[0m\u001b[0mb\u001b[0m\u001b[0;34m=\u001b[0m\u001b[0;34m[\u001b[0m\u001b[0;36m1\u001b[0m\u001b[0;34m,\u001b[0m\u001b[0;36m32\u001b[0m\u001b[0;34m,\u001b[0m\u001b[0;36m5\u001b[0m\u001b[0;34m,\u001b[0m\u001b[0;36m6\u001b[0m\u001b[0;34m,\u001b[0m\u001b[0;36m7\u001b[0m\u001b[0;34m,\u001b[0m\u001b[0;36m7\u001b[0m\u001b[0;34m]\u001b[0m\u001b[0;34m,\u001b[0m\u001b[0;34m[\u001b[0m\u001b[0;36m1\u001b[0m\u001b[0;34m,\u001b[0m\u001b[0;36m3\u001b[0m\u001b[0;34m,\u001b[0m\u001b[0;36m5\u001b[0m\u001b[0;34m,\u001b[0m\u001b[0;36m3\u001b[0m\u001b[0;34m,\u001b[0m\u001b[0;36m2\u001b[0m\u001b[0;34m,\u001b[0m\u001b[0;36m5\u001b[0m\u001b[0;34m,\u001b[0m\u001b[0;36m76\u001b[0m\u001b[0;34m]\u001b[0m\u001b[0;34m\u001b[0m\u001b[0;34m\u001b[0m\u001b[0m\n\u001b[0;32m----> 2\u001b[0;31m \u001b[0mmergeTwoLists\u001b[0m\u001b[0;34m(\u001b[0m\u001b[0ma\u001b[0m\u001b[0;34m,\u001b[0m \u001b[0mb\u001b[0m\u001b[0;34m)\u001b[0m\u001b[0;34m\u001b[0m\u001b[0;34m\u001b[0m\u001b[0m\n\u001b[0m",
      "\u001b[0;32m/var/folders/v_/k0sbcyf56mq85nj57wwwvbxc0000gn/T/ipykernel_3541/533469750.py\u001b[0m in \u001b[0;36mmergeTwoLists\u001b[0;34m(a, b)\u001b[0m\n\u001b[1;32m      1\u001b[0m \u001b[0;32mdef\u001b[0m \u001b[0mmergeTwoLists\u001b[0m\u001b[0;34m(\u001b[0m\u001b[0ma\u001b[0m\u001b[0;34m,\u001b[0m \u001b[0mb\u001b[0m\u001b[0;34m)\u001b[0m\u001b[0;34m:\u001b[0m\u001b[0;34m\u001b[0m\u001b[0;34m\u001b[0m\u001b[0m\n\u001b[0;32m----> 2\u001b[0;31m     \u001b[0;32mif\u001b[0m \u001b[0;32mnot\u001b[0m \u001b[0ma\u001b[0m \u001b[0;32mor\u001b[0m \u001b[0mb\u001b[0m \u001b[0;32mand\u001b[0m \u001b[0ma\u001b[0m\u001b[0;34m.\u001b[0m\u001b[0mval\u001b[0m \u001b[0;34m>\u001b[0m \u001b[0mb\u001b[0m\u001b[0;34m.\u001b[0m\u001b[0mval\u001b[0m\u001b[0;34m:\u001b[0m\u001b[0;34m\u001b[0m\u001b[0;34m\u001b[0m\u001b[0m\n\u001b[0m\u001b[1;32m      3\u001b[0m         \u001b[0ma\u001b[0m\u001b[0;34m,\u001b[0m \u001b[0mb\u001b[0m \u001b[0;34m=\u001b[0m \u001b[0mb\u001b[0m\u001b[0;34m,\u001b[0m \u001b[0ma\u001b[0m\u001b[0;34m\u001b[0m\u001b[0;34m\u001b[0m\u001b[0m\n\u001b[1;32m      4\u001b[0m     \u001b[0;32mif\u001b[0m \u001b[0ma\u001b[0m\u001b[0;34m:\u001b[0m\u001b[0;34m\u001b[0m\u001b[0;34m\u001b[0m\u001b[0m\n\u001b[1;32m      5\u001b[0m         \u001b[0ma\u001b[0m\u001b[0;34m.\u001b[0m\u001b[0mnext\u001b[0m \u001b[0;34m=\u001b[0m \u001b[0mmergeTwoLists\u001b[0m\u001b[0;34m(\u001b[0m\u001b[0ma\u001b[0m\u001b[0;34m.\u001b[0m\u001b[0mnext\u001b[0m\u001b[0;34m,\u001b[0m \u001b[0mb\u001b[0m\u001b[0;34m)\u001b[0m\u001b[0;34m\u001b[0m\u001b[0;34m\u001b[0m\u001b[0m\n",
      "\u001b[0;31mAttributeError\u001b[0m: 'list' object has no attribute 'val'"
     ]
    }
   ],
   "source": [
    "a,b=[1,32,5,6,7,7],[1,3,5,3,2,5,76]\n",
    "mergeTwoLists(a, b)"
   ]
  },
  {
   "cell_type": "code",
   "execution_count": null,
   "id": "12d34053",
   "metadata": {},
   "outputs": [],
   "source": []
  },
  {
   "cell_type": "code",
   "execution_count": 167,
   "id": "2b4f7262",
   "metadata": {},
   "outputs": [],
   "source": [
    "def removeElement( nums, val):\n",
    "    for i in range(len(nums)):\n",
    "        if nums[i] == val:\n",
    "            nums.remove(nums[i])\n",
    "            nums.append('_')\n",
    "            removeElement(nums, val)\n",
    "    return len(nums)-nums.count('_')"
   ]
  },
  {
   "cell_type": "code",
   "execution_count": 168,
   "id": "2fce42e6",
   "metadata": {},
   "outputs": [
    {
     "data": {
      "text/plain": [
       "5"
      ]
     },
     "execution_count": 168,
     "metadata": {},
     "output_type": "execute_result"
    }
   ],
   "source": [
    "nums, val=[0,1,2,2,3,0,4,2],2\n",
    "removeElement(nums, val)"
   ]
  },
  {
   "cell_type": "code",
   "execution_count": 83,
   "id": "9ac1b520",
   "metadata": {},
   "outputs": [
    {
     "data": {
      "text/plain": [
       "3"
      ]
     },
     "execution_count": 83,
     "metadata": {},
     "output_type": "execute_result"
    }
   ],
   "source": [
    "ff=[0, 1, 3, 0, 4, '_', '_', '_']\n",
    "ff.count('_') "
   ]
  },
  {
   "cell_type": "code",
   "execution_count": 96,
   "id": "ea3e9a89",
   "metadata": {},
   "outputs": [],
   "source": [
    "def moveZeroes(nums) -> None:\n",
    "    \"\"\"\n",
    "    Do not return anything, modify nums in-place instead.\n",
    "    \"\"\"\n",
    "    last=len(nums)-1\n",
    "    for i in range(len(nums)-2):\n",
    "        if nums[i] == 0:\n",
    "            nums[last]=0\n",
    "            last=last-1\n",
    "            nums.remove(nums[i])\n",
    "        print(nums)"
   ]
  },
  {
   "cell_type": "code",
   "execution_count": 97,
   "id": "a6ee796c",
   "metadata": {},
   "outputs": [
    {
     "name": "stdout",
     "output_type": "stream",
     "text": [
      "[1, 0, 3, 0]\n",
      "[1, 3, 0]\n",
      "[1, 3]\n"
     ]
    }
   ],
   "source": [
    "nums=[0,1,0,3,12]\n",
    "moveZeroes(nums) "
   ]
  },
  {
   "cell_type": "code",
   "execution_count": 118,
   "id": "34de974b",
   "metadata": {},
   "outputs": [],
   "source": [
    "def moveZeroes(nums):\n",
    "    zero = 0  # records the position of \"0\"\n",
    "    for i in range(len(nums)):\n",
    "        if nums[i] != 0:\n",
    "            print(nums[i])\n",
    "            print(nums[zero],'0')\n",
    "            nums[i], nums[zero] = nums[zero], nums[i]\n",
    "#             nums[i] = nums[zero]\n",
    "# #             zero += 1\n",
    "#             nums[zero] = nums[i]\n",
    "            zero += 1\n",
    "    print(nums)"
   ]
  },
  {
   "cell_type": "code",
   "execution_count": 119,
   "id": "1498018f",
   "metadata": {},
   "outputs": [
    {
     "name": "stdout",
     "output_type": "stream",
     "text": [
      "1\n",
      "0 0\n",
      "3\n",
      "0 0\n",
      "12\n",
      "0 0\n",
      "[1, 3, 12, 0, 0]\n"
     ]
    }
   ],
   "source": [
    "nums=[0,1,0,3,12]\n",
    "moveZeroes(nums)"
   ]
  },
  {
   "cell_type": "code",
   "execution_count": 124,
   "id": "2612cd56",
   "metadata": {},
   "outputs": [],
   "source": [
    "\n",
    "def specialArray(nums) -> int:\n",
    "    nums.sort()\n",
    "    l, r = 0, len(nums) - 1\n",
    "    while l <= r:\n",
    "        m = l + (r - l) // 2\n",
    "        print(\"m\",m)\n",
    "        x = len(nums) - m\n",
    "        print(\"x\",x)\n",
    "        if nums[m] >= x:\n",
    "            if m == 0 or nums[m - 1] < x:\n",
    "                return x\n",
    "            else:\n",
    "                r = m - 1\n",
    "        else:\n",
    "            l = m + 1\n",
    "    return -1"
   ]
  },
  {
   "cell_type": "code",
   "execution_count": 125,
   "id": "6225b38e",
   "metadata": {},
   "outputs": [
    {
     "name": "stdout",
     "output_type": "stream",
     "text": [
      "m 2\n",
      "x 3\n"
     ]
    },
    {
     "data": {
      "text/plain": [
       "3"
      ]
     },
     "execution_count": 125,
     "metadata": {},
     "output_type": "execute_result"
    }
   ],
   "source": [
    "specialArray([0,4,3,0,4])"
   ]
  },
  {
   "cell_type": "code",
   "execution_count": 127,
   "id": "2fffede6",
   "metadata": {},
   "outputs": [],
   "source": [
    "\n",
    "def specialArray(nums):\n",
    "\n",
    "    low  = 0\n",
    "    high = 1000\n",
    "\n",
    "    while low <= high:\n",
    "\n",
    "        mid = ( low + high ) //2\n",
    "\n",
    "        count = 0\n",
    "\n",
    "        for current_number in nums:\n",
    "\n",
    "            if current_number >= mid:\n",
    "\n",
    "                count = count + 1\n",
    "\n",
    "        if mid == count:\n",
    "            return mid\n",
    "\n",
    "        elif mid < count:\n",
    "            low = mid + 1\n",
    "\n",
    "        elif mid > count:\n",
    "            high = mid - 1\n",
    "\n",
    "    return -1"
   ]
  },
  {
   "cell_type": "code",
   "execution_count": 128,
   "id": "e4f35c89",
   "metadata": {},
   "outputs": [
    {
     "data": {
      "text/plain": [
       "3"
      ]
     },
     "execution_count": 128,
     "metadata": {},
     "output_type": "execute_result"
    }
   ],
   "source": [
    "specialArray([0,4,3,0,4])"
   ]
  },
  {
   "cell_type": "code",
   "execution_count": 130,
   "id": "d79bef10",
   "metadata": {},
   "outputs": [],
   "source": [
    "def searchInsert( nums, target):\n",
    "    i = 0\n",
    "    j = len(nums) - 1\n",
    "    while(i <= j):\n",
    "        pivot = (i + j) // 2\n",
    "        if (nums[pivot] == target):\n",
    "            return pivot\n",
    "        elif (nums[pivot] > target):\n",
    "            j = pivot - 1\n",
    "        else:\n",
    "            i = pivot + 1\n",
    "    return i"
   ]
  },
  {
   "cell_type": "code",
   "execution_count": 131,
   "id": "f0f26cb3",
   "metadata": {},
   "outputs": [
    {
     "data": {
      "text/plain": [
       "4"
      ]
     },
     "execution_count": 131,
     "metadata": {},
     "output_type": "execute_result"
    }
   ],
   "source": [
    "nums=[1,3,5,6]\n",
    "target=7\n",
    "searchInsert( nums, target)"
   ]
  },
  {
   "cell_type": "code",
   "execution_count": null,
   "id": "94f563d7",
   "metadata": {},
   "outputs": [],
   "source": [
    "class Solution:\n",
    "\tdef firstBadVersion(self, n: int) -> int:\n",
    "\n",
    "\t\tresult = 1\n",
    "\n",
    "\t\tlow = 1\n",
    "\t\thigh = n\n",
    "\n",
    "\t\twhile low <= high:\n",
    "\n",
    "\t\t\tmid = (low + high) //2\n",
    "\n",
    "\t\t\tif isBadVersion(mid) == False:\n",
    "\t\t\t\tlow = mid + 1\n",
    "\n",
    "\t\t\telse:\n",
    "\t\t\t\thigh = mid - 1\n",
    "\n",
    "\t\t\t\tresult = mid\n",
    "\n",
    "\t\treturn result"
   ]
  },
  {
   "cell_type": "code",
   "execution_count": null,
   "id": "f7fb7f21",
   "metadata": {},
   "outputs": [],
   "source": []
  },
  {
   "cell_type": "code",
   "execution_count": 169,
   "id": "05b8e387",
   "metadata": {},
   "outputs": [],
   "source": [
    "# class Solution:\n",
    "def groupAnagrams(strs):\n",
    "    h = {}\n",
    "    for word in strs:\n",
    "        sortedWord = ''.join(sorted(word))\n",
    "        print(sortedWord)\n",
    "        print(\"word\",word)\n",
    "        if sortedWord not in h:\n",
    "            h[sortedWord] = [word]\n",
    "        else:\n",
    "            h[sortedWord].append(word)\n",
    "    print(h)\n",
    "    final = []\n",
    "    for value in h.values():\n",
    "        final.append(value)\n",
    "    return final"
   ]
  },
  {
   "cell_type": "code",
   "execution_count": 170,
   "id": "53ab1bf5",
   "metadata": {},
   "outputs": [],
   "source": [
    "strs = [\"eat\",\"tea\",\"tan\",\"ate\",\"nat\",\"bat\"]"
   ]
  },
  {
   "cell_type": "code",
   "execution_count": 171,
   "id": "e0dcd478",
   "metadata": {},
   "outputs": [
    {
     "name": "stdout",
     "output_type": "stream",
     "text": [
      "aet\n",
      "word eat\n",
      "aet\n",
      "word tea\n",
      "ant\n",
      "word tan\n",
      "aet\n",
      "word ate\n",
      "ant\n",
      "word nat\n",
      "abt\n",
      "word bat\n",
      "{'aet': ['eat', 'tea', 'ate'], 'ant': ['tan', 'nat'], 'abt': ['bat']}\n"
     ]
    },
    {
     "data": {
      "text/plain": [
       "[['eat', 'tea', 'ate'], ['tan', 'nat'], ['bat']]"
      ]
     },
     "execution_count": 171,
     "metadata": {},
     "output_type": "execute_result"
    }
   ],
   "source": [
    "groupAnagrams(strs)"
   ]
  },
  {
   "cell_type": "code",
   "execution_count": 174,
   "id": "2a5e71c8",
   "metadata": {},
   "outputs": [
    {
     "name": "stdout",
     "output_type": "stream",
     "text": [
      "i 0 -2\n",
      "i 1 1\n",
      "i 2 -3\n",
      "i 3 4\n",
      "i 4 -1\n",
      "i 5 2\n",
      "i 6 1\n",
      "i 7 -5\n",
      "i 8 4\n"
     ]
    }
   ],
   "source": [
    "for i,num in enumerate([-2,1,-3,4,-1,2,1,-5,4]): \n",
    "    print(\"i\",i,num)\n",
    "    "
   ]
  },
  {
   "cell_type": "code",
   "execution_count": 172,
   "id": "f7c6e79f",
   "metadata": {},
   "outputs": [],
   "source": [
    "def maxSubArray(nums):\n",
    "    dp = [0]*len(nums)\n",
    "    for i,num in enumerate(nums): \n",
    "        print(\"i\",i,num,dp[i-1])\n",
    "        dp[i] = max(dp[i-1] + num, num)\n",
    "        print(max(dp[i-1] + num, num),dp,'  max(dp[i-1] + num, num)')\n",
    "    return max(dp)"
   ]
  },
  {
   "cell_type": "code",
   "execution_count": 173,
   "id": "1f1daa08",
   "metadata": {
    "scrolled": true
   },
   "outputs": [
    {
     "name": "stdout",
     "output_type": "stream",
     "text": [
      "i 0 -2 0\n",
      "-2 [-2, 0, 0, 0, 0, 0, 0, 0, 0]   max(dp[i-1] + num, num)\n",
      "i 1 1 -2\n",
      "1 [-2, 1, 0, 0, 0, 0, 0, 0, 0]   max(dp[i-1] + num, num)\n",
      "i 2 -3 1\n",
      "-2 [-2, 1, -2, 0, 0, 0, 0, 0, 0]   max(dp[i-1] + num, num)\n",
      "i 3 4 -2\n",
      "4 [-2, 1, -2, 4, 0, 0, 0, 0, 0]   max(dp[i-1] + num, num)\n",
      "i 4 -1 4\n",
      "3 [-2, 1, -2, 4, 3, 0, 0, 0, 0]   max(dp[i-1] + num, num)\n",
      "i 5 2 3\n",
      "5 [-2, 1, -2, 4, 3, 5, 0, 0, 0]   max(dp[i-1] + num, num)\n",
      "i 6 1 5\n",
      "6 [-2, 1, -2, 4, 3, 5, 6, 0, 0]   max(dp[i-1] + num, num)\n",
      "i 7 -5 6\n",
      "1 [-2, 1, -2, 4, 3, 5, 6, 1, 0]   max(dp[i-1] + num, num)\n",
      "i 8 4 1\n",
      "5 [-2, 1, -2, 4, 3, 5, 6, 1, 5]   max(dp[i-1] + num, num)\n"
     ]
    },
    {
     "data": {
      "text/plain": [
       "6"
      ]
     },
     "execution_count": 173,
     "metadata": {},
     "output_type": "execute_result"
    }
   ],
   "source": [
    "nums= [-2,1,-3,4,-1,2,1,-5,4]\n",
    "maxSubArray(nums)"
   ]
  },
  {
   "cell_type": "code",
   "execution_count": 179,
   "id": "bdc71377",
   "metadata": {},
   "outputs": [],
   "source": [
    "# class Solution:\n",
    "def maxArea(height):\n",
    "    L, R, width, res = 0, len(height) - 1, len(height) - 1, 0\n",
    "    for w in range(width, 0, -1):\n",
    "        if height[L] < height[R]:\n",
    "            res, L = max(res, height[L] * w), L + 1\n",
    "        else:\n",
    "            res, R = max(res, height[R] * w), R - 1\n",
    "    return res\n",
    "\n",
    "# https://www.youtube.com/watch?v=yK_UnvNpYpM&t=5s\n",
    "# https://leetcode.com/problems/container-with-most-water/discussion/"
   ]
  },
  {
   "cell_type": "code",
   "execution_count": 176,
   "id": "255c6aa0",
   "metadata": {},
   "outputs": [],
   "source": [
    "# You are given an integer array height of length n. There are n vertical lines drawn such that the two endpoints of \n",
    "# the ith line are (i, 0) and (i, height[i]).\n",
    "\n",
    "# Find two lines that together with the x-axis form a container, such that the container contains the most water.\n",
    "\n",
    "# Return the maximum amount of water a container can store.\n",
    "\n",
    "# Notice that you may not slant the container.\n",
    "\n",
    " \n",
    "# Input: height = [1,8,6,2,5,4,8,3,7]\n",
    "# Output: 49\n",
    "# Explanation: The above vertical lines are represented by array [1,8,6,2,5,4,8,3,7]. In this\n",
    "#     case, the max area of water (blue section) the container can contain is 49"
   ]
  },
  {
   "cell_type": "code",
   "execution_count": 180,
   "id": "9d2c4ce6",
   "metadata": {},
   "outputs": [
    {
     "data": {
      "text/plain": [
       "49"
      ]
     },
     "execution_count": 180,
     "metadata": {},
     "output_type": "execute_result"
    }
   ],
   "source": [
    "height = [1,8,6,2,5,4,8,3,7]\n",
    "maxArea(height)"
   ]
  },
  {
   "cell_type": "code",
   "execution_count": null,
   "id": "08e1d850",
   "metadata": {},
   "outputs": [],
   "source": [
    "class Solution:\n",
    "    def longestPalindrome(self, s: str) -> str:\n",
    "        p = ''\n",
    "        for i in range(len(s)):\n",
    "            p1 = self.get_palindrome(s, i, i+1)\n",
    "            p2 = self.get_palindrome(s, i, i)\n",
    "            p = max([p, p1, p2], key=lambda x: len(x))\n",
    "        return p\n",
    "    \n",
    "    def get_palindrome(self, s: str, l: int, r: int) -> str:\n",
    "        while l >= 0 and r < len(s) and s[l] == s[r]:\n",
    "            l -= 1\n",
    "            r += 1\n",
    "        return s[l+1:r]"
   ]
  },
  {
   "cell_type": "code",
   "execution_count": null,
   "id": "c73c6663",
   "metadata": {},
   "outputs": [],
   "source": [
    "# Input: s = \"babad\"\n",
    "# Output: \"bab\"\n",
    "# Explanation: \"aba\" is also a valid answer.\n",
    "# Given a string s, return the longest \n",
    "# palindromic\n",
    " \n",
    "# substring\n",
    "#  in s.\n",
    "\n",
    "# https://www.youtube.com/watch?v=AKIHWGumagI"
   ]
  },
  {
   "cell_type": "code",
   "execution_count": null,
   "id": "fe00da2a",
   "metadata": {},
   "outputs": [],
   "source": []
  },
  {
   "cell_type": "code",
   "execution_count": 197,
   "id": "43b7c29c",
   "metadata": {},
   "outputs": [],
   "source": [
    "def shortestPalindrome(s):\n",
    "    r = s[::-1]\n",
    "    for i in range(len(s) + 1):\n",
    "        print(r[i:],\"ss\")\n",
    "        if s.startswith(r[i:]):\n",
    "            print(r[:i],r[i:],s, r[:i] + s,\"true\",s)\n",
    "            return r[:i] + s\n",
    "        \n",
    "# Example: s = dedcba. Then r = abcded and I try these overlays (the part in (...) is the prefix I cut off, \n",
    "# I just include it in the display for better understanding):\n",
    "\n",
    "#   s          dedcba\n",
    "#   r[0:]      abcded    Nope...\n",
    "#   r[1:]   (a)bcded     Nope...\n",
    "#   r[2:]  (ab)cded      Nope...\n",
    "#   r[3:] (abc)ded       Yes! Return abc + dedcba"
   ]
  },
  {
   "cell_type": "code",
   "execution_count": 198,
   "id": "a04ed1c1",
   "metadata": {},
   "outputs": [
    {
     "name": "stdout",
     "output_type": "stream",
     "text": [
      "abcded ss\n",
      "bcded ss\n",
      "cded ss\n",
      "ded ss\n",
      "abc ded dedcba abcdedcba true dedcba\n"
     ]
    },
    {
     "data": {
      "text/plain": [
       "'abcdedcba'"
      ]
     },
     "execution_count": 198,
     "metadata": {},
     "output_type": "execute_result"
    }
   ],
   "source": [
    "s = \"dedcba\"\n",
    "shortestPalindrome( s)"
   ]
  },
  {
   "cell_type": "code",
   "execution_count": null,
   "id": "9ce32284",
   "metadata": {},
   "outputs": [],
   "source": [
    "class Solution:\n",
    "    def shortestPalindrome(self, s: str) -> str:\n",
    "        if not s or len(s) == 1:\n",
    "            return s\n",
    "        j = 0\n",
    "        for i in reversed(range(len(s))):\n",
    "            if s[i] == s[j]:\n",
    "                j += 1\n",
    "        # at this point, everything in s[j:] is part of our suffix, and s[:j] contains a palindrome within it\n",
    "        if j == len(s):  # this can only occur if the entire string s was a palindrome. If so, we are done!\n",
    "            return s\n",
    "        # otherwise, keep working on s[:j] to verify how much of it is a palindrome, and place prefix and suffix around it.\n",
    "        # the recursion works because if j != len(s), then we are always recursing into a shorter and more palindrome-ish string.\n",
    "        return s[j:][::-1] + self.shortestPalindrome(s[:j]) + s[j:]  "
   ]
  },
  {
   "cell_type": "code",
   "execution_count": 205,
   "id": "cd026bda",
   "metadata": {},
   "outputs": [],
   "source": [
    "def cmp(a, b):\n",
    "    return (a > b) - (a < b) "
   ]
  },
  {
   "cell_type": "code",
   "execution_count": 217,
   "id": "6dbce757",
   "metadata": {},
   "outputs": [],
   "source": [
    "def reverse( x):\n",
    "    s = (x > 0) - (x < 0)\n",
    "    r = int(str(x*s)[::-1])\n",
    "    print(r)\n",
    "    return s*r * (r < 2**31)"
   ]
  },
  {
   "cell_type": "code",
   "execution_count": 218,
   "id": "43b53209",
   "metadata": {},
   "outputs": [
    {
     "name": "stdout",
     "output_type": "stream",
     "text": [
      "321\n"
     ]
    },
    {
     "data": {
      "text/plain": [
       "-321"
      ]
     },
     "execution_count": 218,
     "metadata": {},
     "output_type": "execute_result"
    }
   ],
   "source": [
    "x = -123\n",
    "reverse( x)"
   ]
  },
  {
   "cell_type": "code",
   "execution_count": null,
   "id": "62452c44",
   "metadata": {},
   "outputs": [],
   "source": []
  },
  {
   "cell_type": "code",
   "execution_count": 220,
   "id": "fbebe551",
   "metadata": {},
   "outputs": [
    {
     "data": {
      "text/plain": [
       "2"
      ]
     },
     "execution_count": 220,
     "metadata": {},
     "output_type": "execute_result"
    }
   ],
   "source": [
    "ord('2') - ord('0')"
   ]
  },
  {
   "cell_type": "code",
   "execution_count": 224,
   "id": "f4398e37",
   "metadata": {},
   "outputs": [
    {
     "data": {
      "text/plain": [
       "9"
      ]
     },
     "execution_count": 224,
     "metadata": {},
     "output_type": "execute_result"
    }
   ],
   "source": [
    "ord('9') - ord('0')"
   ]
  },
  {
   "cell_type": "code",
   "execution_count": 233,
   "id": "d28ca52e",
   "metadata": {},
   "outputs": [],
   "source": [
    "digits=[2,9]\n",
    "jj=digits[0:-1]"
   ]
  },
  {
   "cell_type": "code",
   "execution_count": 234,
   "id": "b60df786",
   "metadata": {},
   "outputs": [
    {
     "data": {
      "text/plain": [
       "[2]"
      ]
     },
     "execution_count": 234,
     "metadata": {},
     "output_type": "execute_result"
    }
   ],
   "source": [
    "jj"
   ]
  },
  {
   "cell_type": "code",
   "execution_count": null,
   "id": "be80afce",
   "metadata": {},
   "outputs": [],
   "source": [
    "class Solution:\n",
    "    # class Solution:\n",
    "    def plusOne(self, digits):\n",
    "        if digits[-1] < 9:\n",
    "            digits[-1] += 1\n",
    "            return digits\n",
    "        elif len(digits) == 1 and digits[0] == 9:\n",
    "            return [1, 0]\n",
    "        else:\n",
    "            digits[-1] = 0\n",
    "            digits[0:-1] = self.plusOne(digits[0:-1])\n",
    "            return digits"
   ]
  },
  {
   "cell_type": "code",
   "execution_count": null,
   "id": "2bed43b5",
   "metadata": {},
   "outputs": [],
   "source": [
    "\"\"\"You are given a large integer represented as an integer array digits, where each digits[i] is the ith digit of the \n",
    "integer. \n",
    "The digits are ordered from most significant to least significant in left-to-right order. The large integer does \n",
    "not contain any leading 0's.\n",
    "\n",
    "Increment the large integer by one and return the resulting array of digits.\n",
    "\n",
    " \n",
    "\n",
    "Example 1:\n",
    "\n",
    "Input: digits = [1,2,3]\n",
    "Output: [1,2,4]\n",
    "Explanation: The array represents the integer 123.\n",
    "Incrementing by one gives 123 + 1 = 124.\n",
    "Thus, the result should be [1,2,4].\n",
    "Example 2:\n",
    "\n",
    "Input: digits = [4,3,2,1]\n",
    "Output: [4,3,2,2]\n",
    "Explanation: The array represents the integer 4321.\n",
    "Incrementing by one gives 4321 + 1 = 4322.\n",
    "Thus, the result should be [4,3,2,2].\n",
    "Example 3:\n",
    "\n",
    "Input: digits = [9]\n",
    "Output: [1,0]\n",
    "Explanation: The array represents the integer 9.\n",
    "Incrementing by one gives 9 + 1 = 10.\n",
    "Thus, the result should be [1,0].\"\"\""
   ]
  },
  {
   "cell_type": "code",
   "execution_count": null,
   "id": "358af6b6",
   "metadata": {},
   "outputs": [],
   "source": []
  },
  {
   "cell_type": "code",
   "execution_count": null,
   "id": "e8713cce",
   "metadata": {},
   "outputs": [],
   "source": [
    "class Solution:\n",
    "    def climbStairs(self, n: int) -> int:\n",
    "        if n == 1:\n",
    "            return 1\n",
    "        if n == 2:\n",
    "            return 2\n",
    "        else:\n",
    "            return self.climbStairs(n - 1) + self.climbStairs(n - 2)\n",
    "    \n",
    "    "
   ]
  },
  {
   "cell_type": "code",
   "execution_count": null,
   "id": "1263df54",
   "metadata": {},
   "outputs": [],
   "source": [
    "# Top down - TLE\n",
    "def climbStairs1(self, n):\n",
    "    if n == 1:\n",
    "        return 1\n",
    "    if n == 2:\n",
    "        return 2\n",
    "    return self.climbStairs(n-1)+self.climbStairs(n-2)\n",
    " \n",
    "# Bottom up, O(n) space\n",
    "def climbStairs2(self, n):\n",
    "    if n == 1:\n",
    "        return 1\n",
    "    res = [0 for i in xrange(n)]\n",
    "    res[0], res[1] = 1, 2\n",
    "    for i in xrange(2, n):\n",
    "        res[i] = res[i-1] + res[i-2]\n",
    "    return res[-1]\n",
    "\n",
    "# Bottom up, constant space\n",
    "def climbStairs3(self, n):\n",
    "    if n == 1:\n",
    "        return 1\n",
    "    a, b = 1, 2\n",
    "    for i in xrange(2, n):\n",
    "        tmp = b\n",
    "        b = a+b\n",
    "        a = tmp\n",
    "    return b\n",
    "    \n",
    "# Top down + memorization (list)\n",
    "def climbStairs4(self, n):\n",
    "    if n == 1:\n",
    "        return 1\n",
    "    dic = [-1 for i in xrange(n)]\n",
    "    dic[0], dic[1] = 1, 2\n",
    "    return self.helper(n-1, dic)\n",
    "    \n",
    "def helper(self, n, dic):\n",
    "    if dic[n] < 0:\n",
    "        dic[n] = self.helper(n-1, dic)+self.helper(n-2, dic)\n",
    "    return dic[n]\n",
    "    \n",
    "# Top down + memorization (dictionary)  \n",
    "def __init__(self):\n",
    "    self.dic = {1:1, 2:2}\n",
    "    \n",
    "def climbStairs(self, n):\n",
    "    if n not in self.dic:\n",
    "        self.dic[n] = self.climbStairs(n-1) + self.climbStairs(n-2)\n",
    "    return self.dic[n]"
   ]
  },
  {
   "cell_type": "code",
   "execution_count": null,
   "id": "91f37a3f",
   "metadata": {},
   "outputs": [],
   "source": [
    "\"\"\"You are climbing a staircase. It takes n steps to reach the top.\n",
    "\n",
    "Each time you can either climb 1 or 2 steps. In how many distinct ways can you climb to the top?\n",
    "\n",
    " \n",
    "\n",
    "Example 1:\n",
    "\n",
    "Input: n = 2\n",
    "Output: 2\n",
    "Explanation: There are two ways to climb to the top.\n",
    "1. 1 step + 1 step\n",
    "2. 2 steps\n",
    "Example 2:\n",
    "\n",
    "Input: n = 3\n",
    "Output: 3\n",
    "Explanation: There are three ways to climb to the top.\n",
    "1. 1 step + 1 step + 1 step\n",
    "2. 1 step + 2 steps\n",
    "3. 2 steps + 1 step\"\"\""
   ]
  },
  {
   "cell_type": "code",
   "execution_count": null,
   "id": "51bc8601",
   "metadata": {},
   "outputs": [],
   "source": []
  },
  {
   "cell_type": "code",
   "execution_count": null,
   "id": "5cf44670",
   "metadata": {},
   "outputs": [],
   "source": [
    "class Solution(object):\n",
    "    def subsets(self, nums):\n",
    "        \"\"\"\n",
    "        :type nums: List[int]\n",
    "        :rtype: List[List[int]]\n",
    "        \"\"\"\n",
    "        res = [[]]\n",
    "        for n in nums:\n",
    "            for i in range(len(res)):\n",
    "                res.append(res[i] + [n])\n",
    "        return res"
   ]
  },
  {
   "cell_type": "code",
   "execution_count": null,
   "id": "d499e625",
   "metadata": {},
   "outputs": [],
   "source": [
    "# Given an integer array nums of unique elements, return all possible \n",
    "# subsets\n",
    "#  (the power set).\n",
    "\n",
    "# The solution set must not contain duplicate subsets. Return the solution in any order.\n",
    "\n",
    " \n",
    "\n",
    "# Example 1:\n",
    "\n",
    "# Input: nums = [1,2,3]\n",
    "# Output: [[],[1],[2],[1,2],[3],[1,3],[2,3],[1,2,3]]\n",
    "# Example 2:\n",
    "\n",
    "# Input: nums = [0]\n",
    "# Output: [[],[0]]\n"
   ]
  },
  {
   "cell_type": "code",
   "execution_count": null,
   "id": "19e1d6fb",
   "metadata": {},
   "outputs": [],
   "source": [
    "class Solution:\n",
    "    def multiply(self, num1: str, num2: str) -> str:\n",
    "        if num1 == '0' or num2 == '0':\n",
    "            return '0'\n",
    "        \n",
    "        def decode(num):\n",
    "            ans = 0\n",
    "            for i in num:\n",
    "                ans = ans*10 +(ord(i) - ord('0'))\n",
    "            return ans\n",
    "\n",
    "        def encode(s):\n",
    "            news = ''\n",
    "            while s:\n",
    "                a = s % 10\n",
    "                s = s // 10\n",
    "                news = chr(ord('0') + a) + news\n",
    "            return news\n",
    "        \n",
    "        return encode(decode(num1)*decode(num2))"
   ]
  },
  {
   "cell_type": "code",
   "execution_count": null,
   "id": "b4242269",
   "metadata": {},
   "outputs": [],
   "source": [
    "# Given two non-negative integers num1 and num2 represented as strings, return the product of num1 and num2, also represented as a string.\n",
    "\n",
    "# Note: You must not use any built-in BigInteger library or convert the inputs to integer directly.\n",
    "\n",
    " \n",
    "\n",
    "# Example 1:\n",
    "\n",
    "# Input: num1 = \"2\", num2 = \"3\"\n",
    "# Output: \"6\"\n",
    "# Example 2:\n",
    "\n",
    "# Input: num1 = \"123\", num2 = \"456\"\n",
    "# Output: \"56088\"\n"
   ]
  },
  {
   "cell_type": "code",
   "execution_count": null,
   "id": "a0bc8a6a",
   "metadata": {},
   "outputs": [],
   "source": [
    "class Solution:\n",
    "    def search(self, nums: List[int], target: int) -> int:\n",
    "        left = 0\n",
    "        right = len(nums)-1\n",
    "        \n",
    "        while left<=right:\n",
    "            mid = (left+right)//2\n",
    "            if nums[mid]==target:\n",
    "                return mid\n",
    "            elif nums[mid]>target:\n",
    "                right = mid-1\n",
    "            else:\n",
    "                left = mid+1\n",
    "        \n",
    "        return -1"
   ]
  },
  {
   "cell_type": "code",
   "execution_count": null,
   "id": "72b13cf7",
   "metadata": {},
   "outputs": [],
   "source": []
  },
  {
   "cell_type": "code",
   "execution_count": null,
   "id": "548a18ff",
   "metadata": {},
   "outputs": [],
   "source": [
    "class Solution:\n",
    "    def maxDepth(self, root: TreeNode) -> int:\n",
    "        if not root:\n",
    "            return 0\n",
    "        return max(self.maxDepth(root.left), self.maxDepth(root.right)) + 1"
   ]
  }
 ],
 "metadata": {
  "celltoolbar": "Raw Cell Format",
  "kernelspec": {
   "display_name": "Python 3 (ipykernel)",
   "language": "python",
   "name": "python3"
  },
  "language_info": {
   "codemirror_mode": {
    "name": "ipython",
    "version": 3
   },
   "file_extension": ".py",
   "mimetype": "text/x-python",
   "name": "python",
   "nbconvert_exporter": "python",
   "pygments_lexer": "ipython3",
   "version": "3.9.7"
  }
 },
 "nbformat": 4,
 "nbformat_minor": 5
}
